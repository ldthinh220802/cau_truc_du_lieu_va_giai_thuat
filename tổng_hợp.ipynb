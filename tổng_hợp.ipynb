{
  "nbformat": 4,
  "nbformat_minor": 0,
  "metadata": {
    "colab": {
      "name": "tổng hợp.ipynb",
      "provenance": [],
      "authorship_tag": "ABX9TyNDYjOrE/v6aRlVbgRQAQwj",
      "include_colab_link": true
    },
    "kernelspec": {
      "name": "python3",
      "display_name": "Python 3"
    },
    "language_info": {
      "name": "python"
    }
  },
  "cells": [
    {
      "cell_type": "markdown",
      "metadata": {
        "id": "view-in-github",
        "colab_type": "text"
      },
      "source": [
        "<a href=\"https://colab.research.google.com/github/ldthinh220802/cau_truc_du_lieu_va_giai_thuat/blob/main/t%E1%BB%95ng_h%E1%BB%A3p.ipynb\" target=\"_parent\"><img src=\"https://colab.research.google.com/assets/colab-badge.svg\" alt=\"Open In Colab\"/></a>"
      ]
    },
    {
      "cell_type": "markdown",
      "metadata": {
        "id": "uSHdOvHixEW6"
      },
      "source": [
        "1. giải thuật đệ quy "
      ]
    },
    {
      "cell_type": "code",
      "metadata": {
        "colab": {
          "base_uri": "https://localhost:8080/"
        },
        "id": "1kc2e2xvwp8I",
        "outputId": "529ebfff-fd13-4f05-b270-b40e1da472ea"
      },
      "source": [
        "#BT01 tháp hà nội\n",
        "\n",
        "\n",
        "def thapHaNoi(n, toaMot, toaHai, toaBa):\n",
        "  if n == 1:\n",
        "\t  print(\"chuyen tu\", toaMot, \"sang\", toaBa)\n",
        "\n",
        "  else:\n",
        "\t  thapHaNoi(n-1, toaMot, toaBa, toaHai)\n",
        "\t  print(\"chuyen tu\", toaMot, \"sang\", toaBa)\n",
        "\t  thapHaNoi(n-1, toaHai, toaMot, toaBa)  \n",
        "   \n",
        "thapHaNoi(2,\"a\",\"b\",\"c\")"
      ],
      "execution_count": 6,
      "outputs": [
        {
          "output_type": "stream",
          "text": [
            "chuyen tu a sang b\n",
            "chuyen tu a sang c\n",
            "chuyen tu b sang c\n"
          ],
          "name": "stdout"
        }
      ]
    },
    {
      "cell_type": "code",
      "metadata": {
        "colab": {
          "base_uri": "https://localhost:8080/"
        },
        "id": "DR8-LtcDyuTg",
        "outputId": "a5a59d72-73fc-4365-9f5a-61a828149ffb"
      },
      "source": [
        "#BT02 USCLN\n",
        "def uscln(a, b):\n",
        "    if (b == 0):\n",
        "        return a;\n",
        "    return uscln(b, a % b);\n",
        "\n",
        " \n",
        "\n",
        "\n",
        "a = int(input(\"Nhập số nguyên dương a = \"));\n",
        "b = int(input(\"Nhập số nguyên dương b = \"));\n",
        "print(\"Ước số chung lớn nhất của\", a, \"và\", b, \"là:\", uscln(a, b));"
      ],
      "execution_count": 7,
      "outputs": [
        {
          "output_type": "stream",
          "text": [
            "Nhập số nguyên dương a = 10\n",
            "Nhập số nguyên dương b = 30\n",
            "Ước số chung lớn nhất của 10 và 30 là: 10\n"
          ],
          "name": "stdout"
        }
      ]
    },
    {
      "cell_type": "code",
      "metadata": {
        "colab": {
          "base_uri": "https://localhost:8080/"
        },
        "id": "YbJja2iPzX6m",
        "outputId": "e76a4b13-a606-482a-c910-7e28c4b74db6"
      },
      "source": [
        "#BT03 Giai thừa của một số \n",
        "def giaithua(n):\n",
        "    \n",
        "    if n == 1: \n",
        "       return 1 \n",
        "    else: \n",
        "        return (n * giaithua(n-1))\n",
        "\n",
        "num = int(input(\"Nhập số cần tính giai thừa: \"))\n",
        "\n",
        "print(\"Giai thừa của\", num, \"là\", giaithua(num)) "
      ],
      "execution_count": 9,
      "outputs": [
        {
          "output_type": "stream",
          "text": [
            "Nhập số cần tính giai thừa: 3\n",
            "Giai thừa của 3 là 6\n"
          ],
          "name": "stdout"
        }
      ]
    },
    {
      "cell_type": "code",
      "metadata": {
        "id": "0J9-cTRSzneV"
      },
      "source": [
        ""
      ],
      "execution_count": null,
      "outputs": []
    },
    {
      "cell_type": "code",
      "metadata": {
        "colab": {
          "base_uri": "https://localhost:8080/"
        },
        "id": "SRNjRXcs0fGE",
        "outputId": "7cc31a97-a4e7-44b5-c9c9-a058d01f489f"
      },
      "source": [
        "#BT05\n",
        "\n",
        "n = 8\n",
        "a = n*[0]\n",
        "print(\"a  = \",a)\n",
        "def print_board(b): #viết hàm để in ra các quân hậu dạng ma trận\n",
        "   l = len(b)\n",
        "   for i in range(l):\n",
        "      for j in range(l):\n",
        "         if j == a[i]:\n",
        "            print(1, end = \" \")\n",
        "         else:\n",
        "            print(0, end = \" \")\n",
        "      print()\n",
        "def possible(d, c):\n",
        "   for i in range(d):\n",
        "      # if a[i] == y or abs(i - x) == abs(a[i] - y):\n",
        "      if a[i] == c  or c - d == a[i] - i or c + d == a[i] + i:\n",
        "         return False\n",
        "   return True\n",
        "def gen(i, n):\n",
        "   for j in range(n):\n",
        "      if possible(i,j):\n",
        "         a[i] = j\n",
        "         if i == n - 1:\n",
        "            print(a)\n",
        "         gen(i+1, n)\n",
        "\n",
        "gen(0, n)"
      ],
      "execution_count": 25,
      "outputs": [
        {
          "output_type": "stream",
          "text": [
            "a  =  [0, 0, 0, 0, 0, 0, 0, 0]\n",
            "[0, 4, 7, 5, 2, 6, 1, 3]\n",
            "[0, 5, 7, 2, 6, 3, 1, 4]\n",
            "[0, 6, 3, 5, 7, 1, 4, 2]\n",
            "[0, 6, 4, 7, 1, 3, 5, 2]\n",
            "[1, 3, 5, 7, 2, 0, 6, 4]\n",
            "[1, 4, 6, 0, 2, 7, 5, 3]\n",
            "[1, 4, 6, 3, 0, 7, 5, 2]\n",
            "[1, 5, 0, 6, 3, 7, 2, 4]\n",
            "[1, 5, 7, 2, 0, 3, 6, 4]\n",
            "[1, 6, 2, 5, 7, 4, 0, 3]\n",
            "[1, 6, 4, 7, 0, 3, 5, 2]\n",
            "[1, 7, 5, 0, 2, 4, 6, 3]\n",
            "[2, 0, 6, 4, 7, 1, 3, 5]\n",
            "[2, 4, 1, 7, 0, 6, 3, 5]\n",
            "[2, 4, 1, 7, 5, 3, 6, 0]\n",
            "[2, 4, 6, 0, 3, 1, 7, 5]\n",
            "[2, 4, 7, 3, 0, 6, 1, 5]\n",
            "[2, 5, 1, 4, 7, 0, 6, 3]\n",
            "[2, 5, 1, 6, 0, 3, 7, 4]\n",
            "[2, 5, 1, 6, 4, 0, 7, 3]\n",
            "[2, 5, 3, 0, 7, 4, 6, 1]\n",
            "[2, 5, 3, 1, 7, 4, 6, 0]\n",
            "[2, 5, 7, 0, 3, 6, 4, 1]\n",
            "[2, 5, 7, 0, 4, 6, 1, 3]\n",
            "[2, 5, 7, 1, 3, 0, 6, 4]\n",
            "[2, 6, 1, 7, 4, 0, 3, 5]\n",
            "[2, 6, 1, 7, 5, 3, 0, 4]\n",
            "[2, 7, 3, 6, 0, 5, 1, 4]\n",
            "[3, 0, 4, 7, 1, 6, 2, 5]\n",
            "[3, 0, 4, 7, 5, 2, 6, 1]\n",
            "[3, 1, 4, 7, 5, 0, 2, 6]\n",
            "[3, 1, 6, 2, 5, 7, 0, 4]\n",
            "[3, 1, 6, 2, 5, 7, 4, 0]\n",
            "[3, 1, 6, 4, 0, 7, 5, 2]\n",
            "[3, 1, 7, 4, 6, 0, 2, 5]\n",
            "[3, 1, 7, 5, 0, 2, 4, 6]\n",
            "[3, 5, 0, 4, 1, 7, 2, 6]\n",
            "[3, 5, 7, 1, 6, 0, 2, 4]\n",
            "[3, 5, 7, 2, 0, 6, 4, 1]\n",
            "[3, 6, 0, 7, 4, 1, 5, 2]\n",
            "[3, 6, 2, 7, 1, 4, 0, 5]\n",
            "[3, 6, 4, 1, 5, 0, 2, 7]\n",
            "[3, 6, 4, 2, 0, 5, 7, 1]\n",
            "[3, 7, 0, 2, 5, 1, 6, 4]\n",
            "[3, 7, 0, 4, 6, 1, 5, 2]\n",
            "[3, 7, 4, 2, 0, 6, 1, 5]\n",
            "[4, 0, 3, 5, 7, 1, 6, 2]\n",
            "[4, 0, 7, 3, 1, 6, 2, 5]\n",
            "[4, 0, 7, 5, 2, 6, 1, 3]\n",
            "[4, 1, 3, 5, 7, 2, 0, 6]\n",
            "[4, 1, 3, 6, 2, 7, 5, 0]\n",
            "[4, 1, 5, 0, 6, 3, 7, 2]\n",
            "[4, 1, 7, 0, 3, 6, 2, 5]\n",
            "[4, 2, 0, 5, 7, 1, 3, 6]\n",
            "[4, 2, 0, 6, 1, 7, 5, 3]\n",
            "[4, 2, 7, 3, 6, 0, 5, 1]\n",
            "[4, 6, 0, 2, 7, 5, 3, 1]\n",
            "[4, 6, 0, 3, 1, 7, 5, 2]\n",
            "[4, 6, 1, 3, 7, 0, 2, 5]\n",
            "[4, 6, 1, 5, 2, 0, 3, 7]\n",
            "[4, 6, 1, 5, 2, 0, 7, 3]\n",
            "[4, 6, 3, 0, 2, 7, 5, 1]\n",
            "[4, 7, 3, 0, 2, 5, 1, 6]\n",
            "[4, 7, 3, 0, 6, 1, 5, 2]\n",
            "[5, 0, 4, 1, 7, 2, 6, 3]\n",
            "[5, 1, 6, 0, 2, 4, 7, 3]\n",
            "[5, 1, 6, 0, 3, 7, 4, 2]\n",
            "[5, 2, 0, 6, 4, 7, 1, 3]\n",
            "[5, 2, 0, 7, 3, 1, 6, 4]\n",
            "[5, 2, 0, 7, 4, 1, 3, 6]\n",
            "[5, 2, 4, 6, 0, 3, 1, 7]\n",
            "[5, 2, 4, 7, 0, 3, 1, 6]\n",
            "[5, 2, 6, 1, 3, 7, 0, 4]\n",
            "[5, 2, 6, 1, 7, 4, 0, 3]\n",
            "[5, 2, 6, 3, 0, 7, 1, 4]\n",
            "[5, 3, 0, 4, 7, 1, 6, 2]\n",
            "[5, 3, 1, 7, 4, 6, 0, 2]\n",
            "[5, 3, 6, 0, 2, 4, 1, 7]\n",
            "[5, 3, 6, 0, 7, 1, 4, 2]\n",
            "[5, 7, 1, 3, 0, 6, 4, 2]\n",
            "[6, 0, 2, 7, 5, 3, 1, 4]\n",
            "[6, 1, 3, 0, 7, 4, 2, 5]\n",
            "[6, 1, 5, 2, 0, 3, 7, 4]\n",
            "[6, 2, 0, 5, 7, 4, 1, 3]\n",
            "[6, 2, 7, 1, 4, 0, 5, 3]\n",
            "[6, 3, 1, 4, 7, 0, 2, 5]\n",
            "[6, 3, 1, 7, 5, 0, 2, 4]\n",
            "[6, 4, 2, 0, 5, 7, 1, 3]\n",
            "[7, 1, 3, 0, 6, 4, 2, 5]\n",
            "[7, 1, 4, 2, 0, 6, 3, 5]\n",
            "[7, 2, 0, 5, 1, 4, 6, 3]\n",
            "[7, 3, 0, 2, 5, 1, 6, 4]\n"
          ],
          "name": "stdout"
        }
      ]
    },
    {
      "cell_type": "markdown",
      "metadata": {
        "id": "sHOTgVqI614-"
      },
      "source": [
        ""
      ]
    },
    {
      "cell_type": "code",
      "metadata": {
        "colab": {
          "base_uri": "https://localhost:8080/"
        },
        "id": "3qOfw-b264es",
        "outputId": "a7261f92-29a0-40b9-cd99-6983da64019a"
      },
      "source": [
        "class Node(object):\n",
        "    def __init__(self):\n",
        "        self.data = None # chứa dữ liệu\n",
        "        self.next = None # chứa dữ liệu cho các bước tiếp theo\n",
        "\n",
        "\n",
        "class LinkedList:\n",
        "    def __init__(self):\n",
        "        self.cur_node = None\n",
        "\n",
        "    def add_node(self, data):\n",
        "        new_node = Node() # tạo một nút mới\n",
        "        new_node.data = data\n",
        "        new_node.next = self.cur_node # liên kết nút mới với nút trước đó\n",
        "        self.cur_node = new_node #  đặt nút hiện tại thành nút mới\n",
        "\n",
        "    def list_print(self):\n",
        "        node = self.cur_node # cant point to ll!\n",
        "        while node:\n",
        "            print(node.data)\n",
        "            node = node.next\n",
        "\n",
        "\n",
        "\n",
        "ll = LinkedList()\n",
        "ll.add_node(6)\n",
        "ll.add_node(8)\n",
        "ll.add_node(39)\n",
        "\n",
        "ll.list_print()"
      ],
      "execution_count": 15,
      "outputs": [
        {
          "output_type": "stream",
          "text": [
            "39\n",
            "8\n",
            "6\n"
          ],
          "name": "stdout"
        }
      ]
    },
    {
      "cell_type": "code",
      "metadata": {
        "colab": {
          "base_uri": "https://localhost:8080/"
        },
        "id": "DmzWdYr-9N-6",
        "outputId": "ceff1cb2-eb00-42ec-92e5-99c7f0eb6f69"
      },
      "source": [
        "# A simple Python program for traversal of a linked list \n",
        "  \n",
        "# Node class \n",
        "class Node: \n",
        "  \n",
        "    # Function to initialise the node object \n",
        "    def __init__(self, data): \n",
        "        self.data = data  # Assign data \n",
        "        self.next = None  # Initialize next as null \n",
        "  \n",
        "  \n",
        "# Linked List class contains a Node object \n",
        "class LinkedList: \n",
        "  \n",
        "    # Function to initialize head \n",
        "    def __init__(self): \n",
        "        self.head = None\n",
        "  \n",
        "    # This function prints contents of linked list \n",
        "    # starting from head \n",
        "    def printList(self): \n",
        "        temp = self.head \n",
        "        while (temp): \n",
        "            print (temp.data) \n",
        "            temp = temp.next\n",
        "  \n",
        "  \n",
        "# Code execution starts here \n",
        "if __name__=='__main__': \n",
        "  \n",
        "    # Start with the empty list \n",
        "    llist = LinkedList() \n",
        "  \n",
        "    llist.head = Node(1) \n",
        "    second = Node(2) \n",
        "    third = Node(3) \n",
        "  \n",
        "    llist.head.next = second; # Link first node with second \n",
        "    second.next = third; # Link second node with the third node \n",
        "  \n",
        "    llist.printList() "
      ],
      "execution_count": 16,
      "outputs": [
        {
          "output_type": "stream",
          "text": [
            "1\n",
            "2\n",
            "3\n"
          ],
          "name": "stdout"
        }
      ]
    }
  ]
}