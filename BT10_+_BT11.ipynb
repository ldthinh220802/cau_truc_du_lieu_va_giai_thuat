{
  "nbformat": 4,
  "nbformat_minor": 0,
  "metadata": {
    "colab": {
      "name": "BT10 + BT11.ipynb",
      "provenance": [],
      "authorship_tag": "ABX9TyMHs58bLVgS+0QWpEP5dduo",
      "include_colab_link": true
    },
    "kernelspec": {
      "name": "python3",
      "display_name": "Python 3"
    },
    "language_info": {
      "name": "python"
    }
  },
  "cells": [
    {
      "cell_type": "markdown",
      "metadata": {
        "id": "view-in-github",
        "colab_type": "text"
      },
      "source": [
        "<a href=\"https://colab.research.google.com/github/ldthinh220802/cau_truc_du_lieu_va_giai_thuat/blob/main/BT10_%2B_BT11.ipynb\" target=\"_parent\"><img src=\"https://colab.research.google.com/assets/colab-badge.svg\" alt=\"Open In Colab\"/></a>"
      ]
    },
    {
      "cell_type": "code",
      "metadata": {
        "id": "zgNXpzd4cVkH"
      },
      "source": [
        "from binarytree import build\n",
        "values = [7, 3, 2, 6, 9, None, 1, 5, 8]\n",
        "root = build(values)\n",
        "print(root)\n",
        "print(root.preorder) # duyệt cây theo thứ tự trước\n",
        "print(root.postorder) # duyệt cây theo thứ tự sau"
      ],
      "execution_count": null,
      "outputs": []
    }
  ]
}