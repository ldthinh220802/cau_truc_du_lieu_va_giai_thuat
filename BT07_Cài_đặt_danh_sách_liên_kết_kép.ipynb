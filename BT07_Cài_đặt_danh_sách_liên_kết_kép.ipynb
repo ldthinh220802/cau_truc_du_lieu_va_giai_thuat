{
  "nbformat": 4,
  "nbformat_minor": 0,
  "metadata": {
    "colab": {
      "name": "BT07. Cài đặt danh sách liên kết kép.ipynb",
      "provenance": [],
      "authorship_tag": "ABX9TyP4Ff39dmWgTcbE4hunpC5b",
      "include_colab_link": true
    },
    "kernelspec": {
      "name": "python3",
      "display_name": "Python 3"
    },
    "language_info": {
      "name": "python"
    }
  },
  "cells": [
    {
      "cell_type": "markdown",
      "metadata": {
        "id": "view-in-github",
        "colab_type": "text"
      },
      "source": [
        "<a href=\"https://colab.research.google.com/github/ldthinh220802/cau_truc_du_lieu_va_giai_thuat/blob/main/BT07_C%C3%A0i_%C4%91%E1%BA%B7t_danh_s%C3%A1ch_li%C3%AAn_k%E1%BA%BFt_k%C3%A9p.ipynb\" target=\"_parent\"><img src=\"https://colab.research.google.com/assets/colab-badge.svg\" alt=\"Open In Colab\"/></a>"
      ]
    },
    {
      "cell_type": "code",
      "metadata": {
        "id": "sthGUQq4QRAk"
      },
      "source": [
        "# Node of a doubly linked list\n",
        "class Node:\n",
        "    def __init__(self, next=None, prev=None, data=None):\n",
        "        self.next = next # reference to next node in DLL\n",
        "        self.prev = prev # reference to previous node in DLL\n",
        "        self.data = data"
      ],
      "execution_count": 1,
      "outputs": []
    }
  ]
}