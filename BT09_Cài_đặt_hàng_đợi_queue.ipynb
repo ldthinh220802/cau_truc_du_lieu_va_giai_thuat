{
  "nbformat": 4,
  "nbformat_minor": 0,
  "metadata": {
    "colab": {
      "name": "BT09. Cài đặt hàng đợi - queue.ipynb",
      "provenance": [],
      "authorship_tag": "ABX9TyNPOGrxiOuPBQspMfXmwgN1",
      "include_colab_link": true
    },
    "kernelspec": {
      "name": "python3",
      "display_name": "Python 3"
    },
    "language_info": {
      "name": "python"
    }
  },
  "cells": [
    {
      "cell_type": "markdown",
      "metadata": {
        "id": "view-in-github",
        "colab_type": "text"
      },
      "source": [
        "<a href=\"https://colab.research.google.com/github/ldthinh220802/cau_truc_du_lieu_va_giai_thuat/blob/main/BT09_C%C3%A0i_%C4%91%E1%BA%B7t_h%C3%A0ng_%C4%91%E1%BB%A3i_queue.ipynb\" target=\"_parent\"><img src=\"https://colab.research.google.com/assets/colab-badge.svg\" alt=\"Open In Colab\"/></a>"
      ]
    },
    {
      "cell_type": "code",
      "metadata": {
        "id": "IsZL7T_VP8UU"
      },
      "source": [
        "class Queue:\n",
        "\n",
        "    def __init__(self):\n",
        "        self.queue = []\n",
        "\n",
        "    def enqueue(self, item):\n",
        "        self.queue.append(item)\n",
        "\n",
        "    def dequeue(self):\n",
        "        if len(self.queue) < 1:\n",
        "            return None\n",
        "        return self.queue.pop(0)\n",
        "\n",
        "    def size(self):\n",
        "        return len(self.queue) "
      ],
      "execution_count": 1,
      "outputs": []
    }
  ]
}